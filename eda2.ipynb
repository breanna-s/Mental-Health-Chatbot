{
 "cells": [
  {
   "cell_type": "code",
   "execution_count": 92,
   "metadata": {},
   "outputs": [],
   "source": [
    "import joblib as j\n",
    "from nltk.stem import PorterStemmer\n",
    "import re as r"
   ]
  },
  {
   "cell_type": "code",
   "execution_count": 93,
   "metadata": {},
   "outputs": [],
   "source": [
    "vector = j.load('rf_vectorizer.pkl')\n",
    "model = j.load('rf_model.pkl')"
   ]
  },
  {
   "cell_type": "code",
   "execution_count": 94,
   "metadata": {},
   "outputs": [],
   "source": [
    "pt=PorterStemmer()\n",
    "def preprocessing(x):\n",
    "    l=[]\n",
    "\n",
    "    text=r.sub(r'[^a-zA-Z0-9\\s]','',x.lower())\n",
    "    for i in text.split():\n",
    "        l.append(pt.stem(i.lower()))\n",
    "\n",
    "    return \" \".join(l) "
   ]
  },
  {
   "cell_type": "code",
   "execution_count": 95,
   "metadata": {},
   "outputs": [],
   "source": [
    "text = input(\"how are you feeling? \")\n"
   ]
  },
  {
   "cell_type": "code",
   "execution_count": 96,
   "metadata": {},
   "outputs": [],
   "source": [
    "text=preprocessing(text)"
   ]
  },
  {
   "cell_type": "code",
   "execution_count": 97,
   "metadata": {},
   "outputs": [],
   "source": [
    "def predi(x):\n",
    "    vec=vector.transform([x])\n",
    "    result=model.predict(vec)[0]\n",
    "    if result == 'Normal' and len(x.split()) < 30:\n",
    "        print(\"I am having trouble understanding what you are feeling. Can you describe it in some more words?\")\n",
    "        new_input = input(\"> \")\n",
    "        new_input = preprocessing(new_input)\n",
    "        combined_text = x + \" \" + new_input\n",
    "        result = predi(combined_text)  \n",
    "    else:\n",
    "        print(x)\n",
    "        print(len(x.split()))\n",
    "        return result\n",
    "        \n",
    "        \n",
    "    return result"
   ]
  },
  {
   "cell_type": "code",
   "execution_count": null,
   "metadata": {},
   "outputs": [
    {
     "name": "stdout",
     "output_type": "stream",
     "text": [
      "I am having trouble understanding what you are feeling. Can you describe it in some more words?\n",
      "shock i dont know so worri\n",
      "6\n"
     ]
    },
    {
     "data": {
      "text/plain": [
       "'Anxiety'"
      ]
     },
     "execution_count": 98,
     "metadata": {},
     "output_type": "execute_result"
    }
   ],
   "source": [
    "diagnosis = predi(text)"
   ]
  },
  {
   "cell_type": "code",
   "execution_count": null,
   "metadata": {},
   "outputs": [],
   "source": [
    "match diagnosis:\n",
    "    case 'Normal':\n",
    "        print(\"NORMAL OUTPUT HERE\")\n",
    "    case 'Anxiety':\n",
    "        print(\"ANXIETY OUTPUT HERE\")\n",
    "    case 'Suicidal':\n",
    "        print(\"SUICIDAL STUFF HERE\")\n",
    "    case 'Depression':\n",
    "        print(\"DEPRESSION STUFF HERE\")\n",
    "    case 'Stress':\n",
    "        print(\"STRESS STUFF HERE\")\n",
    "    case 'Bipolar':\n",
    "        print(\"BIPOLAR STUFF HERE\")\n",
    "    case 'Personality disorder':\n",
    "        print(\"PERSONALITY DISORDER HERE\")\n",
    "        \n",
    "        "
   ]
  }
 ],
 "metadata": {
  "kernelspec": {
   "display_name": "base",
   "language": "python",
   "name": "python3"
  },
  "language_info": {
   "codemirror_mode": {
    "name": "ipython",
    "version": 3
   },
   "file_extension": ".py",
   "mimetype": "text/x-python",
   "name": "python",
   "nbconvert_exporter": "python",
   "pygments_lexer": "ipython3",
   "version": "3.12.4"
  }
 },
 "nbformat": 4,
 "nbformat_minor": 2
}
