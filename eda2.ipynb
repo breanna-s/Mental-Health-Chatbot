{
 "cells": [
  {
   "cell_type": "code",
   "execution_count": 92,
   "metadata": {},
   "outputs": [],
   "source": [
    "import joblib as j\n",
    "from nltk.stem import PorterStemmer\n",
    "import re as r"
   ]
  },
  {
   "cell_type": "code",
   "execution_count": 93,
   "metadata": {},
   "outputs": [],
   "source": [
    "vector = j.load('rf_vectorizer.pkl')\n",
    "model = j.load('rf_model.pkl')"
   ]
  },
  {
   "cell_type": "code",
   "execution_count": 94,
   "metadata": {},
   "outputs": [],
   "source": [
    "pt=PorterStemmer()\n",
    "def preprocessing(x):\n",
    "    l=[]\n",
    "\n",
    "    text=r.sub(r'[^a-zA-Z0-9\\s]','',x.lower())\n",
    "    for i in text.split():\n",
    "        l.append(pt.stem(i.lower()))\n",
    "\n",
    "    return \" \".join(l) "
   ]
  },
  {
   "cell_type": "code",
   "execution_count": 95,
   "metadata": {},
   "outputs": [],
   "source": [
    "text = input(\"how are you feeling? \")\n"
   ]
  },
  {
   "cell_type": "code",
   "execution_count": 96,
   "metadata": {},
   "outputs": [],
   "source": [
    "text=preprocessing(text)"
   ]
  },
  {
   "cell_type": "code",
   "execution_count": 97,
   "metadata": {},
   "outputs": [],
   "source": [
    "def predi(x):\n",
    "    vec=vector.transform([x])\n",
    "    result=model.predict(vec)[0]\n",
    "    if result == 'Normal' and len(x.split()) < 30:\n",
    "        print(\"I am having trouble understanding what you are feeling. Can you describe it in some more words?\")\n",
    "        new_input = input(\"> \")\n",
    "        new_input = preprocessing(new_input)\n",
    "        combined_text = x + \" \" + new_input\n",
    "        result = predi(combined_text)  \n",
    "    else:\n",
    "        print(x)\n",
    "        print(len(x.split()))\n",
    "        return result\n",
    "        \n",
    "        \n",
    "    return result"
   ]
  },
  {
   "cell_type": "code",
   "execution_count": null,
   "metadata": {},
   "outputs": [
    {
     "name": "stdout",
     "output_type": "stream",
     "text": [
      "I am having trouble understanding what you are feeling. Can you describe it in some more words?\n",
      "shock i dont know so worri\n",
      "6\n"
     ]
    },
    {
     "data": {
      "text/plain": [
       "'Anxiety'"
      ]
     },
     "execution_count": 98,
     "metadata": {},
     "output_type": "execute_result"
    }
   ],
   "source": [
    "diagnosis = predi(text)"
   ]
  },
  {
   "cell_type": "code",
   "execution_count": null,
   "metadata": {},
   "outputs": [],
   "source": [
    "match diagnosis:\n",
    "    case 'Normal':\n",
    "        print(\"It sounds like you’re feeling normal.\n",
    "               \\nYou may just be looking for a sense of connection by reaching out to this model. You may also be feeding this model somebody else’s words to receive confirmation that their words mean what you think they mean.\n",
    "               \\n\\nThank you for reaching out; connection is important to humans, and your concern is valid. This model has detected nothing abnormal about what you’ve entered, but if you are not satisfied with this answer, you can say something new, or speak to someone else about your thoughts to see if this model has made a mistake.\")\n",
    "    case 'Anxiety':\n",
    "        print(\"It sounds like you’re feeling anxious. \n",
    "                \\nAnxiety as a feeling is similar to feeling fear, dread, or a general uneasiness. In the body, anxiety can manifest as a rapid heart rate, trembling, or restlessness, among other things. It can be caused by a troubling upcoming event, a trigger in your environment, or certain mental health conditions.\n",
    "                \\n\\nAnyone can suffer with anxiety, whether it’s temporary due to a stressor or a chronic underlying condition. Consider handling the stressor in your environment, using breathing techniques, or talking through your worries with someone near to you. If this seems like a pattern for you, please consider seeking therapy or asking a medical provider about medication to help.\n",
    "\")\n",
    "    case 'Suicidal':\n",
    "        print(\"It sounds like you’re feeling suicidal.\n",
    "                \\nBeing suicidal ranges from passive suicidal ideation all the way to an outright attempt. Suicidal ideation can include having thoughts about wanting to disappear from the world, wanting to harm yourself, or fixating on what it would be like to die. It does not have to include making a plan to commit suicide, but often does. You’re not alone; reports state that anywhere between 4-18% of people in the United States have reported experiencing some form of suicidal ideation before.\n",
    "                \\n\\nWhile appearing harmless, suicidal ideation can quickly escalate into something more serious. If you have the ability to, reach out to someone trusted in your life and develop a plan that works with your needs to prevent this escalation. If you don’t have someone in your life to trust, you can reach out to a medical professional or community online for support instead. If you think you are at risk of harming yourself or others imminently, in North America please reach out to the suicide hotline at 988 for additional assistance. It’s worth it to stick around.\n",
    "\")\n",
    "    case 'Depression':\n",
    "        print(\"It sounds like you’re feeling depressed.\n",
    "                \\nDepression as a feeling is similar to sadness, but it can also be a sense of emptiness, numbness, or general upset feelings. Depression can manifest physically as lethargy, inability to sleep, or outbursts, as well as habit changes such as disinterest in usual activities and fixations on negative thoughts. Depression can be triggered randomly or can be brought on by major life changes.\n",
    "                \\n\\nAnyone can suffer with depression, whether it’s an acute reaction to a specific event, a more chronic persisting condition, or a seasonal change. Consider speaking to friends and/or a professional to help manage these symptoms, establishing good habits such as exercising and eating well, and generally changing your mindset.\n",
    "\")\n",
    "    case 'Stress':\n",
    "        print(\"It sounds like you’re feeling stressed.\n",
    "                \\nStress as a feeling can be identified as a persistent worry, emotional withdrawal, or being overwhelmed. Stress can manifest physically as headaches, muscle tension, or chest pain, among other things. Stress can be caused by major life changes, close coming deadlines, or minor issues ranging from personal to global.\n",
    "                \\n\\nHolding onto stress long term can cause some serious side effects, such as ulcers, heart problems, and high blood pressure. You should either seek to reduce the stressor’s presence in your life by doing something about it, or you should find some way to manage your stress outside of the stressor, such as confiding in someone close to you or practicing mindfulness techniques.\n",
    "\")\n",
    "    case 'Bipolar':\n",
    "        print(\"Your statements align with those of someone who has bipolar disorder.\n",
    "                \\nBipolar disorder comes in different forms, but is primarily characterized by episodes of rapid mood swings between mania or hypomania – an intense feeling of energy, excitement, or irritability – and depression. These episodes can last from just days to months, and you can go for a long period of time between episodes of having no symptoms. Mania is characterized by a restlessness, energetic mind, and inability to settle, and can be accompanied by a break from reality, a.k.a. psychosis. Hypomania is a less intense version of this. Depression is characterized by lethargy, disinterest in normal activities, and a lack of joy or emotion.\n",
    "                \\n\\nBipolar can be hard to recognize, because while mania usually feels like a time of productivity and happiness, it can also be destructive. You should seek a diagnosis from a mental health professional, who will be able to recommend a course of action that may include medication to suppress these mood swings or talk therapy. You should also speak to those close to you and ask if they have any outside perspectives to offer about your behavior, and tell them about your struggles.\n",
    "\")\n",
    "    case 'Personality disorder':\n",
    "        print(\"Your statements align with those of someone who has a personality disorder.\n",
    "                \\nPersonality disorders can have a wide range of symptoms, mostly behavioral, and have a negative impact on both your relationship with yourself and your relationship with others. Generally speaking, personality disorders cause feelings or behaviors that are not conducive to a healthy mindset, even if the individual with the disorder doesn’t see that this is the underlying cause.\n",
    "                \\n\\nGenerally, personality disorders require a professional diagnosis. I recommend you seek a psychiatrist or similar mental health professional to determine what assistance will best help you lead a productive, whole life, and to reach out to communities online who understand what you’re going through, specifically those communities that are focused on managing the dysfunctional aspects of your specific disorder. With treatment, most people who experience issues stemming from their personality disorder are able to get better and find success.\n",
    "\")\n",
    "        \n",
    "        "
   ]
  }
 ],
 "metadata": {
  "kernelspec": {
   "display_name": "Python 3 (ipykernel)",
   "language": "python",
   "name": "python3"
  },
  "language_info": {
   "codemirror_mode": {
    "name": "ipython",
    "version": 3
   },
   "file_extension": ".py",
   "mimetype": "text/x-python",
   "name": "python",
   "nbconvert_exporter": "python",
   "pygments_lexer": "ipython3",
   "version": "3.12.4"
  }
 },
 "nbformat": 4,
 "nbformat_minor": 4
}
